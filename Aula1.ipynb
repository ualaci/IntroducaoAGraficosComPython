{
  "metadata": {
    "language_info": {
      "codemirror_mode": {
        "name": "python",
        "version": 3
      },
      "file_extension": ".py",
      "mimetype": "text/x-python",
      "name": "python",
      "nbconvert_exporter": "python",
      "pygments_lexer": "ipython3",
      "version": "3.8"
    },
    "kernelspec": {
      "name": "python",
      "display_name": "Python (Pyodide)",
      "language": "python"
    }
  },
  "nbformat_minor": 4,
  "nbformat": 4,
  "cells": [
    {
      "cell_type": "markdown",
      "source": "## Aula 1: operações matemáticas, estruturas de repetição e condicionais",
      "metadata": {}
    },
    {
      "cell_type": "markdown",
      "source": "Primeiramente, iremos Importar as bibliotecas necessárias para o nosso codigo. \n\nBibliotecas são códigos pré programados que nos entregam ferramentas prontas que facilitam nosso trabalho.",
      "metadata": {}
    },
    {
      "cell_type": "code",
      "source": "import math as m\n",
      "metadata": {
        "trusted": true
      },
      "execution_count": 7,
      "outputs": []
    },
    {
      "cell_type": "markdown",
      "source": "A biblioteca math possui várias ferramentas prontas que nos permite calcular operações matemáticas mais sofisticadas como seno de ângulos, fatorial, resto da divisão, etc.\nVejamos alguns exemplos de operações básicas nativas do python:",
      "metadata": {}
    },
    {
      "cell_type": "code",
      "source": "n1 = 10\nn2 = 2.43\nsoma = n1+n2\nprint(\"soma:\",soma)\n\ndiferenca = n1-n2\nprint (\"diferenca:\", diferenca)\n\nequacao = n1**2+2*n2+5\nprint(\"equacao:\", equacao)",
      "metadata": {
        "trusted": true
      },
      "execution_count": 14,
      "outputs": [
        {
          "name": "stdout",
          "text": "soma: 12.43\ndiferenca: 7.57\nequacao: 109.86\n",
          "output_type": "stream"
        }
      ]
    },
    {
      "cell_type": "markdown",
      "source": "agora vejamos algumas operacoes mais sofisticadas utilizando a biblioteca math:",
      "metadata": {}
    },
    {
      "cell_type": "code",
      "source": "vetor = [0.2, 0.4 , 0.8, 1, 2]\n\nsoma = m.fsum(vetor)\nprint(\"soma:\", soma)\n\nln = m.log(m.e)\nprint(\"logaritmo natural do numero de euler:\", ln)\n\nln = m.log(m.e, 2)\nprint(\"logaritmo na base 2 do numero de euler:\", ln)\n\ncosseno = m.cos(m.e)\nprint(\"cosseno do numero de euler:\", cosseno)\n\ndistanciaEuclidiana = m.dist([10],[3])\nprint(\"distancia euclidiana entre 10 e 3:\", distanciaEuclidiana)",
      "metadata": {
        "trusted": true
      },
      "execution_count": 21,
      "outputs": [
        {
          "name": "stdout",
          "text": "soma: 4.4\nlogaritmo natural do numero de euler: 1.0\nlogaritmo na base 2 do numero de euler: 1.4426950408889634\ncosseno do numero de euler: -0.9117339147869651\ndistancia euclidiana entre 10 e 3: 7.0\n",
          "output_type": "stream"
        }
      ]
    },
    {
      "cell_type": "markdown",
      "source": "### Estruturas condicionais\n\npermitem que você tome decisões com base em certas condições. Existem duas principais estruturas de condição em Python: if (se) e if-else (se-senão).\n\n**Estrutura if (se):**\nA estrutura if é usada para executar um bloco de código se uma determinada condição for verdadeira, vejamos:",
      "metadata": {}
    },
    {
      "cell_type": "code",
      "source": "idade = 18\nif idade >= 18:\n    print(\"Você é maior de idade.\")\n",
      "metadata": {
        "trusted": true
      },
      "execution_count": 22,
      "outputs": [
        {
          "name": "stdout",
          "text": "Você é maior de idade.\n",
          "output_type": "stream"
        }
      ]
    },
    {
      "cell_type": "markdown",
      "source": "Neste exemplo, se a variável idade for igual ou maior que 18, a mensagem \"Você é maior de idade.\" será impressa na saída.",
      "metadata": {}
    },
    {
      "cell_type": "markdown",
      "source": "**Estrutura if-elif-else (se-senão se - senão):**\nA estrutura if-else permite que você execute um bloco de código se a condição for verdadeira e outro bloco de código se a condição for falsa:\n",
      "metadata": {}
    },
    {
      "cell_type": "code",
      "source": "idade = 17\nif idade >= 18:\n    print(\"Você é maior de idade.\")\n    \nelif idade == 17:\n    print(\"Você é quase maior de idade, mas ainda é menor de idade.\")\n\nelse:\n    print(\"Você é menor de idade.\")\n",
      "metadata": {
        "trusted": true
      },
      "execution_count": 25,
      "outputs": [
        {
          "name": "stdout",
          "text": "Você é quase maior de idade, mas ainda é menor de idade.\n",
          "output_type": "stream"
        }
      ]
    },
    {
      "cell_type": "markdown",
      "source": "### Estruturas de repetição\n\nAs estruturas de repetição em Python permitem que você execute um bloco de código várias vezes. Existem duas principais estruturas de repetição em Python: while (enquanto) e for (para). \n\n**Estrutura while (enquanto):**\nA estrutura while é usada para repetir um bloco de código enquanto uma determinada condição for verdadeira:",
      "metadata": {}
    },
    {
      "cell_type": "code",
      "source": "contador = 0\nwhile contador < 5:\n    print(contador)\n    contador += 1",
      "metadata": {
        "trusted": true
      },
      "execution_count": 26,
      "outputs": [
        {
          "name": "stdout",
          "text": "0\n1\n2\n3\n4\n",
          "output_type": "stream"
        }
      ]
    },
    {
      "cell_type": "markdown",
      "source": "**Estrutura for (para):**\nA estrutura for é usada para iterar sobre uma sequência (como uma lista, uma string, um intervalo numérico, etc.) e executar um bloco de código para cada elemento da sequência:",
      "metadata": {}
    },
    {
      "cell_type": "code",
      "source": "frutas = [\"maçã\", \"banana\", \"laranja\"]\nfor fruta in frutas:\n    print(fruta)",
      "metadata": {
        "trusted": true
      },
      "execution_count": 27,
      "outputs": [
        {
          "name": "stdout",
          "text": "maçã\nbanana\nlaranja\n",
          "output_type": "stream"
        }
      ]
    },
    {
      "cell_type": "code",
      "source": "",
      "metadata": {},
      "execution_count": null,
      "outputs": []
    }
  ]
}